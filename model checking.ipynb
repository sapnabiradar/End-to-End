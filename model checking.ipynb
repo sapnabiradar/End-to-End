{
 "cells": [
  {
   "cell_type": "code",
   "execution_count": 9,
   "id": "a289d74d",
   "metadata": {},
   "outputs": [],
   "source": [
    "import numpy as np\n",
    "import pickle\n",
    "import pandas as pd"
   ]
  },
  {
   "cell_type": "code",
   "execution_count": 10,
   "id": "142d45d1",
   "metadata": {},
   "outputs": [],
   "source": [
    "bedrooms= 3\n",
    "bathrooms= 1.5\n",
    "sqft_living=1340\n",
    "sqft_lot= 7912\n",
    "floors= 1.5\n",
    "waterfront= 0\n",
    "view= 0\n",
    "condition= 3\n",
    "sqft_above =1340\n",
    "sqft_basement= 0\n",
    "yr_built=1955\n",
    "yr_renovated=2005"
   ]
  },
  {
   "cell_type": "code",
   "execution_count": 11,
   "id": "5ee5342f",
   "metadata": {},
   "outputs": [],
   "source": [
    "x = np.array([[bedrooms,bathrooms,sqft_living,sqft_lot,floors,waterfront,view,condition,sqft_above,sqft_basement,yr_built,yr_renovated]])"
   ]
  },
  {
   "cell_type": "code",
   "execution_count": 12,
   "id": "05699c24",
   "metadata": {},
   "outputs": [],
   "source": [
    "model = pickle.load(open('model.pkl', 'rb'))"
   ]
  },
  {
   "cell_type": "code",
   "execution_count": 13,
   "id": "dfeff691",
   "metadata": {},
   "outputs": [],
   "source": [
    "y_prediction = model.predict(x)"
   ]
  },
  {
   "cell_type": "code",
   "execution_count": 14,
   "id": "c1e6b8a5",
   "metadata": {},
   "outputs": [
    {
     "data": {
      "text/plain": [
       "array([[361375.27500666]])"
      ]
     },
     "execution_count": 14,
     "metadata": {},
     "output_type": "execute_result"
    }
   ],
   "source": [
    "y_prediction"
   ]
  },
  {
   "cell_type": "code",
   "execution_count": null,
   "id": "1a5df6ad",
   "metadata": {},
   "outputs": [],
   "source": []
  }
 ],
 "metadata": {
  "kernelspec": {
   "display_name": "Python 3 (ipykernel)",
   "language": "python",
   "name": "python3"
  },
  "language_info": {
   "codemirror_mode": {
    "name": "ipython",
    "version": 3
   },
   "file_extension": ".py",
   "mimetype": "text/x-python",
   "name": "python",
   "nbconvert_exporter": "python",
   "pygments_lexer": "ipython3",
   "version": "3.9.7"
  }
 },
 "nbformat": 4,
 "nbformat_minor": 5
}
